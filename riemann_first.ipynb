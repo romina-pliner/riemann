{
 "metadata": {
  "language_info": {
   "codemirror_mode": {
    "name": "ipython",
    "version": 3
   },
   "file_extension": ".py",
   "mimetype": "text/x-python",
   "name": "python",
   "nbconvert_exporter": "python",
   "pygments_lexer": "ipython3",
   "version": "3.8.2-final"
  },
  "orig_nbformat": 2,
  "kernelspec": {
   "name": "python3",
   "display_name": "Python 3"
  }
 },
 "nbformat": 4,
 "nbformat_minor": 2,
 "cells": [
  {
   "source": [
    "# Riemann Sum Calculator"
   ],
   "cell_type": "markdown",
   "metadata": {}
  },
  {
   "source": [
    "This Notebook allows the user to enter a function and calculate the Riemann Sums (left, right, midpoint, and Simpsons Method) to approximate a definate integral of the entered function."
   ],
   "cell_type": "markdown",
   "metadata": {}
  },
  {
   "cell_type": "code",
   "execution_count": 7,
   "metadata": {},
   "outputs": [],
   "source": [
    "# Import the appropriate commonly used functions from Pythons Math library\n",
    "from math import sin, cos, tan, acos, asin, atan, exp, e, pi, log, log10, sqrt, log2, floor, ceil\n",
    "import matplotlib.pyplot as plt \n",
    "import numpy as np\n",
    "from pytexit import py2tex"
   ]
  },
  {
   "cell_type": "code",
   "execution_count": 8,
   "metadata": {},
   "outputs": [],
   "source": [
    "# Solution Constants need to be reset at the start of each run\n",
    "L=0 #LRAM\n",
    "M=0 #MRAM\n",
    "R=0 #RRAM\n",
    "S=0 #Simpsons"
   ]
  },
  {
   "cell_type": "code",
   "execution_count": 17,
   "metadata": {},
   "outputs": [],
   "source": [
    "# Get user inputs\n",
    "n = int(input(\"Number of Rectangles:\") or n or 10)\n",
    "function = input(\"Function (use Python syntax):\") or function or \"x**2\"\n",
    "start = float(input(\"Start of domain to integrate:\") or start or 0)\n",
    "end = float(input(\"End of domain to integrate:\") or end or 5)"
   ]
  },
  {
   "cell_type": "code",
   "execution_count": 23,
   "metadata": {},
   "outputs": [
    {
     "output_type": "execute_result",
     "data": {
      "text/plain": [
       "0.7071067811865475"
      ]
     },
     "metadata": {},
     "execution_count": 23
    }
   ],
   "source": [
    "width = (end - start)/float(n)\n",
    "x = start + width\n",
    "eval(function)"
   ]
  },
  {
   "cell_type": "code",
   "execution_count": 19,
   "metadata": {},
   "outputs": [
    {
     "output_type": "stream",
     "name": "stdout",
     "text": [
      "sin(pi*x)\n"
     ]
    },
    {
     "output_type": "error",
     "ename": "TypeError",
     "evalue": "only size-1 arrays can be converted to Python scalars",
     "traceback": [
      "\u001b[0;31m---------------------------------------------------------------------------\u001b[0m",
      "\u001b[0;31mTypeError\u001b[0m                                 Traceback (most recent call last)",
      "\u001b[0;32m<ipython-input-19-6069f283ee39>\u001b[0m in \u001b[0;36m<module>\u001b[0;34m\u001b[0m\n\u001b[1;32m     11\u001b[0m \u001b[0;31m# Creating vectors X and Y\u001b[0m\u001b[0;34m\u001b[0m\u001b[0;34m\u001b[0m\u001b[0;34m\u001b[0m\u001b[0m\n\u001b[1;32m     12\u001b[0m \u001b[0mx\u001b[0m \u001b[0;34m=\u001b[0m \u001b[0mnp\u001b[0m\u001b[0;34m.\u001b[0m\u001b[0mlinspace\u001b[0m\u001b[0;34m(\u001b[0m\u001b[0mxmin\u001b[0m\u001b[0;34m,\u001b[0m \u001b[0mxmax\u001b[0m\u001b[0;34m,\u001b[0m \u001b[0;36m100\u001b[0m\u001b[0;34m)\u001b[0m\u001b[0;34m\u001b[0m\u001b[0;34m\u001b[0m\u001b[0m\n\u001b[0;32m---> 13\u001b[0;31m \u001b[0my\u001b[0m \u001b[0;34m=\u001b[0m \u001b[0meval\u001b[0m\u001b[0;34m(\u001b[0m\u001b[0mfunction\u001b[0m\u001b[0;34m)\u001b[0m\u001b[0;34m\u001b[0m\u001b[0;34m\u001b[0m\u001b[0m\n\u001b[0m\u001b[1;32m     14\u001b[0m \u001b[0;34m\u001b[0m\u001b[0m\n\u001b[1;32m     15\u001b[0m \u001b[0mfig\u001b[0m \u001b[0;34m=\u001b[0m \u001b[0mplt\u001b[0m\u001b[0;34m.\u001b[0m\u001b[0mfigure\u001b[0m\u001b[0;34m(\u001b[0m\u001b[0mfigsize\u001b[0m \u001b[0;34m=\u001b[0m \u001b[0;34m(\u001b[0m\u001b[0;36m10\u001b[0m\u001b[0;34m,\u001b[0m \u001b[0;36m10\u001b[0m\u001b[0;34m)\u001b[0m\u001b[0;34m)\u001b[0m\u001b[0;34m\u001b[0m\u001b[0;34m\u001b[0m\u001b[0m\n",
      "\u001b[0;32m<string>\u001b[0m in \u001b[0;36m<module>\u001b[0;34m\u001b[0m\n",
      "\u001b[0;31mTypeError\u001b[0m: only size-1 arrays can be converted to Python scalars"
     ]
    }
   ],
   "source": [
    "width = (end - start)/float(n)\n",
    "print(function)\n",
    "\n",
    "# Show plot of function\n",
    "\n",
    "# get boundries for x-axis\n",
    "domain = end - start # width of the function\n",
    "xmin = floor(start - (domain * 0.05)) # starts 5% to the left of start\n",
    "xmax = ceil(end + (domain * 0.05)) # ends 5% to the right of end\n",
    "\n",
    "# Creating vectors X and Y \n",
    "x = np.linspace(xmin, xmax, 100) \n",
    "y = eval(function)\n",
    "  \n",
    "fig = plt.figure(figsize = (10, 10)) \n",
    "# Create the plot \n",
    "plt.plot(x, y) \n",
    "plt.axhline(c=\"black\")\n",
    "\n",
    "rect_xs = []\n",
    "rect_ys = []\n",
    "\n",
    "for i in range(n):\n",
    "    temp = 0\n",
    "    x = start + i*width\n",
    "    rect_xs.append(x)\n",
    "    y = eval(function)\n",
    "    rect_ys.append(y)\n",
    "    L += y*width\n",
    "    temp += y\n",
    "    \n",
    "    x = start + (i+0.5)*width\n",
    "    M += eval(function)*width\n",
    "    temp += 4*eval(function)\n",
    "    \n",
    "    x = start + (i+1)*width\n",
    "    R += eval(function)*width\n",
    "    temp += eval(function)\n",
    "    \n",
    "    S += (temp)*width/(2*3)\n",
    "\n",
    "plt.fill_between(rect_xs, rect_ys, step='post')\n",
    "func_title = r'$\\int_{%d}^%d  %s dx$' % (start, end, py2tex(function))\n",
    "plt.title(func_title)\n",
    "plt.show()"
   ]
  },
  {
   "cell_type": "code",
   "execution_count": 18,
   "metadata": {},
   "outputs": [
    {
     "output_type": "stream",
     "name": "stdout",
     "text": [
      "LRAM:  0\nMRAM:  0\nRRAM:  0\nTrapezoid : 0.0\nSimpson's Method:  0\n"
     ]
    }
   ],
   "source": [
    "\n",
    "\n",
    "# Display Results\n",
    "print(\"LRAM: \", L)\n",
    "print(\"MRAM: \", M)\n",
    "print(\"RRAM: \", R)\n",
    "print(\"Trapezoid :\", (L+R)/2)\n",
    "print(\"Simpson's Method: \", S)\n",
    "\n",
    "# Reset solutions\n",
    "L=0\n",
    "M=0\n",
    "R=0\n",
    "S=0"
   ]
  }
 ]
}