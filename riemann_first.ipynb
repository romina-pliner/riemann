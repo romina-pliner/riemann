{
 "metadata": {
  "language_info": {
   "codemirror_mode": {
    "name": "ipython",
    "version": 3
   },
   "file_extension": ".py",
   "mimetype": "text/x-python",
   "name": "python",
   "nbconvert_exporter": "python",
   "pygments_lexer": "ipython3",
   "version": "3.8.2-final"
  },
  "orig_nbformat": 2,
  "kernelspec": {
   "name": "python3",
   "display_name": "Python 3"
  }
 },
 "nbformat": 4,
 "nbformat_minor": 2,
 "cells": [
  {
   "source": [
    "# Riemann Sum Calculator"
   ],
   "cell_type": "markdown",
   "metadata": {}
  },
  {
   "source": [
    "This Notebook allows the user to enter a function and calculate the Riemann Sums (left, right, midpoint, and Simpsons Method) to approximate a definate integral of the entered function."
   ],
   "cell_type": "markdown",
   "metadata": {}
  },
  {
   "cell_type": "code",
   "execution_count": null,
   "metadata": {},
   "outputs": [],
   "source": [
    "# Import the appropriate commonly used functions from Pythons Math library\n",
    "from math import sin, cos, tan, acos, asin, atan, exp, e, pi, log, log10, sqrt, log2"
   ]
  },
  {
   "cell_type": "code",
   "execution_count": null,
   "metadata": {},
   "outputs": [],
   "source": [
    "# Solution Constants need to be reset at the start of each run\n",
    "L=0 #LRAM\n",
    "M=0 #MRAM\n",
    "R=0 #RRAM\n",
    "S=0 #Simpsons"
   ]
  },
  {
   "cell_type": "code",
   "execution_count": null,
   "metadata": {},
   "outputs": [],
   "source": [
    "# Get user inputs\n",
    "n = int(input(\"Number of Rectangles:\"))\n",
    "function = input(\"Function (use Python syntax):\")\n",
    "start = float(input(\"Start of domain to integrate:\"))\n",
    "end = float(input(\"End of domain to integrate:\"))"
   ]
  },
  {
   "cell_type": "code",
   "execution_count": 3,
   "metadata": {},
   "outputs": [
    {
     "output_type": "stream",
     "name": "stdout",
     "text": [
      "LRAM:  18.240000000000006\nMRAM:  21.28\nRRAM:  24.640000000000008\nTrapezoid : 21.440000000000005\nSimpson's Method:  21.333333333333336\n"
     ]
    }
   ],
   "source": [
    "width = (end - start)/float(n)\n",
    "\n",
    "for i in range(n):\n",
    "    temp = 0\n",
    "    x = start + i*width\n",
    "    L += eval(function)*width\n",
    "    temp += eval(function)\n",
    "    \n",
    "    x = start + (i+0.5)*width\n",
    "    M += eval(function)*width\n",
    "    temp += 4*eval(function)\n",
    "    \n",
    "    x = start + (i+1)*width\n",
    "    R += eval(function)*width\n",
    "    temp += eval(function)\n",
    "    \n",
    "    S += (temp)*width/(2*3)"
   ]
  },
  {
   "cell_type": "code",
   "execution_count": null,
   "metadata": {},
   "outputs": [],
   "source": [
    "# Display Results\n",
    "print(\"LRAM: \",L)\n",
    "print(\"MRAM: \",M)\n",
    "print(\"RRAM: \",R)\n",
    "print(\"Trapezoid :\",(L+R)/2)\n",
    "print(\"Simpson's Method: \", S)\n",
    "\n",
    "# Reset solutions\n",
    "L=0\n",
    "M=0\n",
    "R=0\n",
    "S=0"
   ]
  }
 ]
}